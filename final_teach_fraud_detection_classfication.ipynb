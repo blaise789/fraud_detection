{
 "cells": [
  {
   "cell_type": "code",
   "execution_count": 1,
   "id": "3659c5ec-ce66-4d7b-b8b4-c3e46c225e3d",
   "metadata": {},
   "outputs": [],
   "source": [
    "import pandas as pd\n",
    "import matplotlib.pyplot as plt\n",
    "import seaborn as sns\n",
    "from sklearn.model_selection import train_test_split\n",
    "from sklearn.preprocessing import LabelEncoder\n",
    "from sklearn.ensemble import RandomForestClassifier\n",
    "from sklearn.metrics import accuracy_score, precision_score, recall_score, f1_score, confusion_matrix\n"
   ]
  },
  {
   "cell_type": "code",
   "execution_count": 2,
   "id": "2dbc38f6-956e-4370-88f8-5a5c5a8ab8b5",
   "metadata": {},
   "outputs": [],
   "source": [
    "# Load the existing dataset\n",
    "df = None\n",
    "try:\n",
    "     df=pd.read_csv('fraud_detection_rwandan_bank_case_study.csv')\n",
    "except FileNotFoundError:\n",
    "    print(\"Error: File not found.\")\n",
    "except pd.errors.EmptyDataError:\n",
    "    print(\"Error: The file is empty.\")\n",
    "except pd.errors.ParserError:\n",
    "    print(\"Error: There was a problem parsing the file.\")\n",
    "except Exception as e:\n",
    "    print(f\"An unexpected error occurred: {e}\")\n",
    "    "
   ]
  },
  {
   "cell_type": "code",
   "execution_count": 3,
   "id": "e4aa773d-88df-495b-8322-5d6c6753ade7",
   "metadata": {},
   "outputs": [
    {
     "data": {
      "text/html": [
       "<div>\n",
       "<style scoped>\n",
       "    .dataframe tbody tr th:only-of-type {\n",
       "        vertical-align: middle;\n",
       "    }\n",
       "\n",
       "    .dataframe tbody tr th {\n",
       "        vertical-align: top;\n",
       "    }\n",
       "\n",
       "    .dataframe thead th {\n",
       "        text-align: right;\n",
       "    }\n",
       "</style>\n",
       "<table border=\"1\" class=\"dataframe\">\n",
       "  <thead>\n",
       "    <tr style=\"text-align: right;\">\n",
       "      <th></th>\n",
       "      <th>amount</th>\n",
       "      <th>location</th>\n",
       "      <th>device</th>\n",
       "      <th>time</th>\n",
       "      <th>first_withdraw_transactions_login_trials</th>\n",
       "      <th>client_average_withdraw_transactions_per_day</th>\n",
       "      <th>actual_number_of_withdraw_transaction</th>\n",
       "      <th>fraud</th>\n",
       "    </tr>\n",
       "  </thead>\n",
       "  <tbody>\n",
       "    <tr>\n",
       "      <th>0</th>\n",
       "      <td>1288</td>\n",
       "      <td>Nyabihu</td>\n",
       "      <td>Mobile</td>\n",
       "      <td>Night</td>\n",
       "      <td>1</td>\n",
       "      <td>1</td>\n",
       "      <td>0</td>\n",
       "      <td>Legitimate</td>\n",
       "    </tr>\n",
       "    <tr>\n",
       "      <th>1</th>\n",
       "      <td>7747</td>\n",
       "      <td>Kamonyi</td>\n",
       "      <td>Computer</td>\n",
       "      <td>Night</td>\n",
       "      <td>1</td>\n",
       "      <td>0</td>\n",
       "      <td>0</td>\n",
       "      <td>Legitimate</td>\n",
       "    </tr>\n",
       "    <tr>\n",
       "      <th>2</th>\n",
       "      <td>5500</td>\n",
       "      <td>Rulindo</td>\n",
       "      <td>Mobile</td>\n",
       "      <td>Day</td>\n",
       "      <td>3</td>\n",
       "      <td>5</td>\n",
       "      <td>4</td>\n",
       "      <td>Legitimate</td>\n",
       "    </tr>\n",
       "    <tr>\n",
       "      <th>3</th>\n",
       "      <td>9146</td>\n",
       "      <td>Huye</td>\n",
       "      <td>Computer</td>\n",
       "      <td>Day</td>\n",
       "      <td>4</td>\n",
       "      <td>1</td>\n",
       "      <td>0</td>\n",
       "      <td>Fraudulent</td>\n",
       "    </tr>\n",
       "    <tr>\n",
       "      <th>4</th>\n",
       "      <td>2831</td>\n",
       "      <td>Gicumbi</td>\n",
       "      <td>Computer</td>\n",
       "      <td>Night</td>\n",
       "      <td>0</td>\n",
       "      <td>0</td>\n",
       "      <td>9</td>\n",
       "      <td>Fraudulent</td>\n",
       "    </tr>\n",
       "  </tbody>\n",
       "</table>\n",
       "</div>"
      ],
      "text/plain": [
       "   amount location    device   time  first_withdraw_transactions_login_trials  \\\n",
       "0    1288  Nyabihu    Mobile  Night                                         1   \n",
       "1    7747  Kamonyi  Computer  Night                                         1   \n",
       "2    5500  Rulindo    Mobile    Day                                         3   \n",
       "3    9146     Huye  Computer    Day                                         4   \n",
       "4    2831  Gicumbi  Computer  Night                                         0   \n",
       "\n",
       "   client_average_withdraw_transactions_per_day  \\\n",
       "0                                             1   \n",
       "1                                             0   \n",
       "2                                             5   \n",
       "3                                             1   \n",
       "4                                             0   \n",
       "\n",
       "   actual_number_of_withdraw_transaction       fraud  \n",
       "0                                      0  Legitimate  \n",
       "1                                      0  Legitimate  \n",
       "2                                      4  Legitimate  \n",
       "3                                      0  Fraudulent  \n",
       "4                                      9  Fraudulent  "
      ]
     },
     "execution_count": 3,
     "metadata": {},
     "output_type": "execute_result"
    }
   ],
   "source": [
    "df.head()"
   ]
  },
  {
   "cell_type": "code",
   "execution_count": 4,
   "id": "4d860e30-07d3-468d-a7d7-5904064331f0",
   "metadata": {},
   "outputs": [],
   "source": [
    "df.drop([\"amount\",\"location\"], axis=1, inplace=True)"
   ]
  },
  {
   "cell_type": "code",
   "execution_count": 5,
   "id": "c199e36a-fbdf-4efb-9c5f-a3dabc6d38a5",
   "metadata": {},
   "outputs": [],
   "source": [
    "# Encode 'fraud and time' variables\n",
    "df['fraud'] = df['fraud'].map({'Legitimate': 0, 'Fraudulent': 1})\n",
    "df['time'] = df['time'].map({'Night': 0, 'Day': 1})\n",
    "\n",
    "# Initialize LabelEncoder\n",
    "label_encoder = LabelEncoder()\n",
    "df['device'] = label_encoder.fit_transform(df['device'])"
   ]
  },
  {
   "cell_type": "code",
   "execution_count": 6,
   "id": "2f2a859a-e1d8-4939-84ff-6c1b8345b47f",
   "metadata": {},
   "outputs": [
    {
     "data": {
      "text/plain": [
       "device\n",
       "2    131\n",
       "1    106\n",
       "0     63\n",
       "Name: count, dtype: int64"
      ]
     },
     "execution_count": 6,
     "metadata": {},
     "output_type": "execute_result"
    }
   ],
   "source": [
    "df['device'].value_counts()"
   ]
  },
  {
   "cell_type": "code",
   "execution_count": 7,
   "id": "588ea6a3-1fdb-473c-93ce-78d840deb3f6",
   "metadata": {},
   "outputs": [
    {
     "name": "stdout",
     "output_type": "stream",
     "text": [
      "Accuracy: 1.0\n",
      "Precision: 1.0\n",
      "Recall (Sensitivity): 1.0\n",
      "F1-Score: 1.0\n",
      "Specificity (True Negative Rate): 1.0\n",
      "Confusion Matrix:\n",
      " [[18  0]\n",
      " [ 0 42]]\n"
     ]
    },
    {
     "data": {
      "image/png": "[encoded data removed]",
      "text/plain": [
       "<Figure size 2000x300 with 2 Axes>"
      ]
     },
     "metadata": {},
     "output_type": "display_data"
    }
   ],
   "source": [
    "\n",
    "# Splitting features and labels\n",
    "X = df.drop(columns=[\"fraud\"])\n",
    "y = df[\"fraud\"]\n",
    "\n",
    "# Train-test split\n",
    "X_train, X_test, y_train, y_test = train_test_split(X, y, test_size=0.2, random_state=42)\n",
    "\n",
    "# Training a Random Forest model\n",
    "model = RandomForestClassifier(n_estimators=100, max_depth=10, random_state=42)\n",
    "model.fit(X_train, y_train)\n",
    "\n",
    "# Making predictions\n",
    "y_pred = model.predict(X_test)\n",
    "\n",
    "#Evaluate the model using Accuracy, Precision and Confusion Matrix\n",
    "print(\"Accuracy:\", accuracy_score(y_test, y_pred))\n",
    "print(\"Precision:\", precision_score(y_test, y_pred))\n",
    "print(\"Recall (Sensitivity):\", recall_score(y_test, y_pred))\n",
    "print(\"F1-Score:\", f1_score(y_test, y_pred))\n",
    "# Extracting TN, FP, FN, TP for Specificity Calculation\n",
    "TN, FP, FN, TP = confusion_matrix(y_test, y_pred).ravel()\n",
    "# Calculating Specificity\n",
    "print(\"Specificity (True Negative Rate):\", TN / (TN + FP))\n",
    "print(\"Confusion Matrix:\\n\", confusion_matrix(y_test, y_pred))\n",
    "\n",
    "# Plot Confusion Matrix\n",
    "plt.figure(figsize=(20, 3))\n",
    "sns.heatmap(confusion_matrix(y_test, y_pred), annot=True, fmt='d', cmap='Blues', xticklabels=['Legitimate', 'Fraud'], yticklabels=['Legitimate', 'Fraud'])\n",
    "plt.xlabel(\"Predicted Label\")\n",
    "plt.ylabel(\"Actual Label\")\n",
    "plt.title(\"Confusion Matrix\")\n",
    "plt.show()"
   ]
  },
  {
   "cell_type": "code",
   "execution_count": 8,
   "id": "e741d068-bed0-4667-9945-1c0b95437947",
   "metadata": {},
   "outputs": [
    {
     "name": "stdout",
     "output_type": "stream",
     "text": [
      "Predictions for new data: [1 0 0]\n"
     ]
    }
   ],
   "source": [
    "# New data for prediction\n",
    "new_data = pd.DataFrame({\n",
    "    \"device\": [1, 0,2],\n",
    "    \"time\": [1, 0, 0],\n",
    "    \"first_withdraw_transactions_login_trials\":[5,2,3],\n",
    "    \"client_average_withdraw_transactions_per_day\":[2,2,3],\n",
    "    \"actual_number_of_withdraw_transaction\":[1,1,3]\n",
    "})\n",
    "\n",
    "# Predicting with new data\n",
    "new_predictions = model.predict(new_data)\n",
    "\n",
    "# Output the predictions\n",
    "print(\"Predictions for new data:\", new_predictions)"
   ]
  },
  {
   "cell_type": "code",
   "execution_count": null,
   "id": "381fb5ef-92a4-4579-b4a4-755e951bf43f",
   "metadata": {},
   "outputs": [],
   "source": []
  }
 ],
 "metadata": {
  "kernelspec": {
   "display_name": "Python [conda env:base] *",
   "language": "python",
   "name": "conda-base-py"
  },
  "language_info": {
   "codemirror_mode": {
    "name": "ipython",
    "version": 3
   },
   "file_extension": ".py",
   "mimetype": "text/x-python",
   "name": "python",
   "nbconvert_exporter": "python",
   "pygments_lexer": "ipython3",
   "version": "3.12.3"
  }
 },
 "nbformat": 4,
 "nbformat_minor": 5
}
